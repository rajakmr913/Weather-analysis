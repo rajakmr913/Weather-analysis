{
 "cells": [
  {
   "cell_type": "code",
   "execution_count": 1,
   "id": "397373b8",
   "metadata": {},
   "outputs": [],
   "source": [
    "import pandas as pd\n",
    "from matplotlib import pyplot as plt\n",
    "import numpy as np"
   ]
  },
  {
   "cell_type": "code",
   "execution_count": 2,
   "id": "0a17aa04",
   "metadata": {},
   "outputs": [],
   "source": [
    "data = pd.read_csv(r\"D:\\python codes\\projects\\weather analysis\\1. Weather_Data.csv\")"
   ]
  },
  {
   "cell_type": "code",
   "execution_count": 3,
   "id": "d4f40f98",
   "metadata": {},
   "outputs": [],
   "source": [
    "# data.head()"
   ]
  },
  {
   "cell_type": "code",
   "execution_count": 4,
   "id": "be2313d2",
   "metadata": {},
   "outputs": [],
   "source": [
    "# data.shape"
   ]
  },
  {
   "cell_type": "code",
   "execution_count": 5,
   "id": "3b1aa189",
   "metadata": {},
   "outputs": [],
   "source": [
    "# data.index"
   ]
  },
  {
   "cell_type": "code",
   "execution_count": 6,
   "id": "1775b206",
   "metadata": {},
   "outputs": [],
   "source": [
    "# data.columns"
   ]
  },
  {
   "cell_type": "code",
   "execution_count": 7,
   "id": "8a722569",
   "metadata": {},
   "outputs": [],
   "source": [
    "# data.dtypes"
   ]
  },
  {
   "cell_type": "code",
   "execution_count": 8,
   "id": "6bfdcb51",
   "metadata": {},
   "outputs": [],
   "source": [
    "# data['Weather'].unique()"
   ]
  },
  {
   "cell_type": "code",
   "execution_count": 9,
   "id": "8c31f3dd",
   "metadata": {},
   "outputs": [],
   "source": [
    "# data['Weather'].nunique()"
   ]
  },
  {
   "cell_type": "code",
   "execution_count": 10,
   "id": "6bbc0ea7",
   "metadata": {},
   "outputs": [],
   "source": [
    "# data.count"
   ]
  },
  {
   "cell_type": "code",
   "execution_count": 11,
   "id": "0f39fb8d",
   "metadata": {},
   "outputs": [],
   "source": [
    "# data.value_counts"
   ]
  },
  {
   "cell_type": "code",
   "execution_count": 12,
   "id": "8b0dc48b",
   "metadata": {},
   "outputs": [],
   "source": [
    "# data.info()"
   ]
  },
  {
   "cell_type": "markdown",
   "id": "b15ee209",
   "metadata": {},
   "source": [
    "## wind Speed"
   ]
  },
  {
   "cell_type": "code",
   "execution_count": 13,
   "id": "c7f8f7a3",
   "metadata": {},
   "outputs": [],
   "source": [
    "# data.head(3)"
   ]
  },
  {
   "cell_type": "code",
   "execution_count": 14,
   "id": "eb39b275",
   "metadata": {},
   "outputs": [],
   "source": [
    "# data['Wind Speed_km/h'].unique()"
   ]
  },
  {
   "cell_type": "markdown",
   "id": "eafac0be",
   "metadata": {},
   "source": [
    "## find the number when weather is exately clear"
   ]
  },
  {
   "cell_type": "code",
   "execution_count": 15,
   "id": "96ac54b0",
   "metadata": {},
   "outputs": [],
   "source": [
    "# value count\n",
    "# data.Weather.value_counts()"
   ]
  },
  {
   "cell_type": "code",
   "execution_count": 16,
   "id": "9edc522b",
   "metadata": {},
   "outputs": [],
   "source": [
    "# filtering\n",
    "# data[data.Weather == 'Clear'].head(2)\n"
   ]
  },
  {
   "cell_type": "code",
   "execution_count": 17,
   "id": "3ac538ae",
   "metadata": {},
   "outputs": [],
   "source": [
    "# groupby\n",
    "# data.groupby('Weather').get_group('Clear').head()"
   ]
  },
  {
   "cell_type": "markdown",
   "id": "a0b7a75d",
   "metadata": {},
   "source": [
    "## when wind speed was exately 4km"
   ]
  },
  {
   "cell_type": "code",
   "execution_count": 18,
   "id": "044e1d00",
   "metadata": {},
   "outputs": [],
   "source": [
    "# data.head()\n",
    "# data[data['Wind Speed_km/h'] ==4].head()"
   ]
  },
  {
   "cell_type": "markdown",
   "id": "0640d8f0",
   "metadata": {},
   "source": [
    "## All Null Values"
   ]
  },
  {
   "cell_type": "code",
   "execution_count": 19,
   "id": "ce5a71f6",
   "metadata": {},
   "outputs": [],
   "source": [
    "# data.isnull().sum()"
   ]
  },
  {
   "cell_type": "code",
   "execution_count": 20,
   "id": "4610893b",
   "metadata": {},
   "outputs": [],
   "source": [
    "# data.Visibility_km.mean()"
   ]
  },
  {
   "cell_type": "code",
   "execution_count": 21,
   "id": "da251a39",
   "metadata": {},
   "outputs": [],
   "source": [
    "# data.Visibility_km.max()"
   ]
  },
  {
   "cell_type": "code",
   "execution_count": 22,
   "id": "6662da58",
   "metadata": {},
   "outputs": [],
   "source": [
    "# data.Press_kPa.std()"
   ]
  },
  {
   "cell_type": "code",
   "execution_count": 23,
   "id": "6d9627a5",
   "metadata": {},
   "outputs": [],
   "source": [
    "# data['Rel Hum_%'].var()"
   ]
  },
  {
   "cell_type": "code",
   "execution_count": 24,
   "id": "7796cc19",
   "metadata": {},
   "outputs": [],
   "source": [
    "# data.columns"
   ]
  },
  {
   "cell_type": "code",
   "execution_count": 25,
   "id": "0515f38f",
   "metadata": {},
   "outputs": [],
   "source": [
    "import seaborn as sns"
   ]
  },
  {
   "cell_type": "code",
   "execution_count": 26,
   "id": "a47761eb",
   "metadata": {},
   "outputs": [],
   "source": [
    "fmri = sns.load_dataset('fmri')"
   ]
  },
  {
   "cell_type": "code",
   "execution_count": 27,
   "id": "4258435c",
   "metadata": {},
   "outputs": [
    {
     "data": {
      "text/html": [
       "<div>\n",
       "<style scoped>\n",
       "    .dataframe tbody tr th:only-of-type {\n",
       "        vertical-align: middle;\n",
       "    }\n",
       "\n",
       "    .dataframe tbody tr th {\n",
       "        vertical-align: top;\n",
       "    }\n",
       "\n",
       "    .dataframe thead th {\n",
       "        text-align: right;\n",
       "    }\n",
       "</style>\n",
       "<table border=\"1\" class=\"dataframe\">\n",
       "  <thead>\n",
       "    <tr style=\"text-align: right;\">\n",
       "      <th></th>\n",
       "      <th>subject</th>\n",
       "      <th>timepoint</th>\n",
       "      <th>event</th>\n",
       "      <th>region</th>\n",
       "      <th>signal</th>\n",
       "    </tr>\n",
       "  </thead>\n",
       "  <tbody>\n",
       "    <tr>\n",
       "      <th>0</th>\n",
       "      <td>s13</td>\n",
       "      <td>18</td>\n",
       "      <td>stim</td>\n",
       "      <td>parietal</td>\n",
       "      <td>-0.017552</td>\n",
       "    </tr>\n",
       "    <tr>\n",
       "      <th>1</th>\n",
       "      <td>s5</td>\n",
       "      <td>14</td>\n",
       "      <td>stim</td>\n",
       "      <td>parietal</td>\n",
       "      <td>-0.080883</td>\n",
       "    </tr>\n",
       "    <tr>\n",
       "      <th>2</th>\n",
       "      <td>s12</td>\n",
       "      <td>18</td>\n",
       "      <td>stim</td>\n",
       "      <td>parietal</td>\n",
       "      <td>-0.081033</td>\n",
       "    </tr>\n",
       "    <tr>\n",
       "      <th>3</th>\n",
       "      <td>s11</td>\n",
       "      <td>18</td>\n",
       "      <td>stim</td>\n",
       "      <td>parietal</td>\n",
       "      <td>-0.046134</td>\n",
       "    </tr>\n",
       "    <tr>\n",
       "      <th>4</th>\n",
       "      <td>s10</td>\n",
       "      <td>18</td>\n",
       "      <td>stim</td>\n",
       "      <td>parietal</td>\n",
       "      <td>-0.037970</td>\n",
       "    </tr>\n",
       "  </tbody>\n",
       "</table>\n",
       "</div>"
      ],
      "text/plain": [
       "  subject  timepoint event    region    signal\n",
       "0     s13         18  stim  parietal -0.017552\n",
       "1      s5         14  stim  parietal -0.080883\n",
       "2     s12         18  stim  parietal -0.081033\n",
       "3     s11         18  stim  parietal -0.046134\n",
       "4     s10         18  stim  parietal -0.037970"
      ]
     },
     "execution_count": 27,
     "metadata": {},
     "output_type": "execute_result"
    }
   ],
   "source": [
    "fmri.head()"
   ]
  },
  {
   "cell_type": "code",
   "execution_count": 28,
   "id": "d1ab33a6",
   "metadata": {},
   "outputs": [
    {
     "data": {
      "image/png": "[encoded data removed]",
      "text/plain": [
       "<Figure size 432x288 with 1 Axes>"
      ]
     },
     "metadata": {
      "needs_background": "light"
     },
     "output_type": "display_data"
    }
   ],
   "source": [
    "sns.lineplot(x = 'timepoint' , y = 'signal', data = fmri)\n",
    "plt.show()"
   ]
  },
  {
   "cell_type": "markdown",
   "id": "3968f3fe",
   "metadata": {},
   "source": [
    "# plotting "
   ]
  },
  {
   "cell_type": "markdown",
   "id": "7b5e111c",
   "metadata": {},
   "source": [
    "## lineploting"
   ]
  },
  {
   "cell_type": "code",
   "execution_count": 33,
   "id": "1a21e8b1",
   "metadata": {},
   "outputs": [
    {
     "data": {
      "image/png": "[encoded data removed]",
      "text/plain": [
       "<Figure size 432x288 with 1 Axes>"
      ]
     },
     "metadata": {
      "needs_background": "light"
     },
     "output_type": "display_data"
    }
   ],
   "source": [
    "sns.lineplot(x = 'timepoint' , y = 'signal', data = fmri, hue='event'  , style = 'event' , markers = True)\n",
    "plt.show()"
   ]
  },
  {
   "cell_type": "markdown",
   "id": "4fe78ccd",
   "metadata": {},
   "source": [
    "## barploting"
   ]
  },
  {
   "cell_type": "code",
   "execution_count": 34,
   "id": "0c4ff523",
   "metadata": {},
   "outputs": [],
   "source": [
    "sns.set(style = 'whitegrid')"
   ]
  },
  {
   "cell_type": "code",
   "execution_count": 36,
   "id": "e039a7f9",
   "metadata": {},
   "outputs": [
    {
     "data": {
      "text/html": [
       "<div>\n",
       "<style scoped>\n",
       "    .dataframe tbody tr th:only-of-type {\n",
       "        vertical-align: middle;\n",
       "    }\n",
       "\n",
       "    .dataframe tbody tr th {\n",
       "        vertical-align: top;\n",
       "    }\n",
       "\n",
       "    .dataframe thead th {\n",
       "        text-align: right;\n",
       "    }\n",
       "</style>\n",
       "<table border=\"1\" class=\"dataframe\">\n",
       "  <thead>\n",
       "    <tr style=\"text-align: right;\">\n",
       "      <th></th>\n",
       "      <th>Date/Time</th>\n",
       "      <th>Temp_C</th>\n",
       "      <th>Dew Point Temp_C</th>\n",
       "      <th>Rel Hum_%</th>\n",
       "      <th>Wind Speed_km/h</th>\n",
       "      <th>Visibility_km</th>\n",
       "      <th>Press_kPa</th>\n",
       "      <th>Weather</th>\n",
       "    </tr>\n",
       "  </thead>\n",
       "  <tbody>\n",
       "    <tr>\n",
       "      <th>0</th>\n",
       "      <td>1/1/2012 0:00</td>\n",
       "      <td>-1.8</td>\n",
       "      <td>-3.9</td>\n",
       "      <td>86</td>\n",
       "      <td>4</td>\n",
       "      <td>8.0</td>\n",
       "      <td>101.24</td>\n",
       "      <td>Fog</td>\n",
       "    </tr>\n",
       "    <tr>\n",
       "      <th>1</th>\n",
       "      <td>1/1/2012 1:00</td>\n",
       "      <td>-1.8</td>\n",
       "      <td>-3.7</td>\n",
       "      <td>87</td>\n",
       "      <td>4</td>\n",
       "      <td>8.0</td>\n",
       "      <td>101.24</td>\n",
       "      <td>Fog</td>\n",
       "    </tr>\n",
       "  </tbody>\n",
       "</table>\n",
       "</div>"
      ],
      "text/plain": [
       "       Date/Time  Temp_C  Dew Point Temp_C  Rel Hum_%  Wind Speed_km/h  \\\n",
       "0  1/1/2012 0:00    -1.8              -3.9         86                4   \n",
       "1  1/1/2012 1:00    -1.8              -3.7         87                4   \n",
       "\n",
       "   Visibility_km  Press_kPa Weather  \n",
       "0            8.0     101.24     Fog  \n",
       "1            8.0     101.24     Fog  "
      ]
     },
     "execution_count": 36,
     "metadata": {},
     "output_type": "execute_result"
    }
   ],
   "source": [
    "data.head(2)"
   ]
  },
  {
   "cell_type": "code",
   "execution_count": 42,
   "id": "0d897ec9",
   "metadata": {},
   "outputs": [],
   "source": [
    "# sns.barplot(x='Weather' , y='Dew Point Temp_C' , data = data)\n",
    "# plt.show()"
   ]
  },
  {
   "cell_type": "markdown",
   "id": "144ee505",
   "metadata": {},
   "source": [
    "## Scatterplotting"
   ]
  },
  {
   "cell_type": "code",
   "execution_count": 45,
   "id": "088b1113",
   "metadata": {},
   "outputs": [],
   "source": [
    "# sns.scatterplot(x ='Temp_C' , y='Press_kPa' , data= data  )\n",
    "# plt.show()"
   ]
  },
  {
   "cell_type": "markdown",
   "id": "b5870363",
   "metadata": {},
   "source": [
    "## Histogramplotting"
   ]
  },
  {
   "cell_type": "code",
   "execution_count": 47,
   "id": "f555776a",
   "metadata": {},
   "outputs": [
    {
     "name": "stderr",
     "output_type": "stream",
     "text": [
      "c:\\users\\rajak\\appdata\\local\\programs\\python\\python39\\lib\\site-packages\\seaborn\\distributions.py:2557: FutureWarning: `distplot` is a deprecated function and will be removed in a future version. Please adapt your code to use either `displot` (a figure-level function with similar flexibility) or `histplot` (an axes-level function for histograms).\n",
      "  warnings.warn(msg, FutureWarning)\n"
     ]
    },
    {
     "data": {
      "image/png": "[encoded data removed]",
      "text/plain": [
       "<Figure size 432x288 with 1 Axes>"
      ]
     },
     "metadata": {},
     "output_type": "display_data"
    }
   ],
   "source": [
    "sns.distplot(data['Temp_C'] , color = \"red\")\n",
    "plt.show()"
   ]
  },
  {
   "cell_type": "code",
   "execution_count": null,
   "id": "cbd8f9cf",
   "metadata": {},
   "outputs": [],
   "source": []
  },
  {
   "cell_type": "code",
   "execution_count": null,
   "id": "563e8dd4",
   "metadata": {},
   "outputs": [],
   "source": []
  }
 ],
 "metadata": {
  "kernelspec": {
   "display_name": "Python 3",
   "language": "python",
   "name": "python3"
  },
  "language_info": {
   "codemirror_mode": {
    "name": "ipython",
    "version": 3
   },
   "file_extension": ".py",
   "mimetype": "text/x-python",
   "name": "python",
   "nbconvert_exporter": "python",
   "pygments_lexer": "ipython3",
   "version": "3.9.5"
  }
 },
 "nbformat": 4,
 "nbformat_minor": 5
}
